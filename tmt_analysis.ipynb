{
 "cells": [
  {
   "cell_type": "markdown",
   "metadata": {},
   "source": [
    "# Fractal VR TMT analysis. (in R)"
   ]
  },
  {
   "cell_type": "code",
   "execution_count": null,
   "metadata": {
    "vscode": {
     "languageId": "r"
    }
   },
   "outputs": [],
   "source": [
    "# libraries RUN ONLY IF YOU DON'T HAVE THE PACKAGES INSTALLED\n",
    "# List of packages to install\n",
    "packages <- c(\"ez\", \"emmeans\", \"cowplot\", \"dplyr\", \"readr\", \"ggplot2\", \"lmerTest\", \n",
    "              \"hrbrthemes\", \"sjPlot\", \"sjmisc\", \"sjlabelled\", \"tidyr\", \"tidyverse\", \n",
    "              \"ggthemes\", \"ggpubr\", \"knitr\", \"jtools\", \"apaTables\", \"psych\", \"boot\")\n",
    "\n",
    "# Install packages\n",
    "install.packages(packages)"
   ]
  },
  {
   "cell_type": "code",
   "execution_count": null,
   "metadata": {
    "vscode": {
     "languageId": "r"
    }
   },
   "outputs": [],
   "source": [
    "# load libraries\n",
    "library(ez)\n",
    "#citation(\"ez\")\n",
    "library(emmeans)\n",
    "#citation(\"emmeans\")\n",
    "\n",
    "# Plotting and formatting\n",
    "library(cowplot)\n",
    "library(dplyr)\n",
    "library(readr) \n",
    "library(ggplot2)\n",
    "library(lmerTest)\n",
    "library(hrbrthemes)\n",
    "library(sjPlot)\n",
    "library(sjmisc)\n",
    "library(sjlabelled)\n",
    "# Raincloud plot( from https://github.com/RainCloudPlots/RainCloudPlots):\n",
    "# this file needs to be in the same directory as the script\n",
    "source('R_rainclouds.R')\n",
    "library(tidyr)\n",
    "library(tidyverse)\n",
    "library(ggthemes)\n",
    "library(ggpubr)\n",
    "# Formatting\n",
    "library(knitr)\n",
    "library(jtools)\n",
    "library(apaTables)\n",
    "# Reliability\n",
    "library(psych)\n",
    "library(tidyr)\n",
    "library(boot)\n",
    "\n"
   ]
  }
 ],
 "metadata": {
  "kernelspec": {
   "display_name": "R",
   "language": "R",
   "name": "ir"
  },
  "language_info": {
   "name": "R"
  }
 },
 "nbformat": 4,
 "nbformat_minor": 2
}
