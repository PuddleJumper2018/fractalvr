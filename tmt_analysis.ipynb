{
 "cells": [
  {
   "cell_type": "markdown",
   "metadata": {},
   "source": [
    "# Fractal VR TMT analysis. (in R)\n",
    "\n",
    "\n",
    "This notebook is running behavioral analysis of Fractal VR data. \n"
   ]
  },
  {
   "cell_type": "markdown",
   "metadata": {},
   "source": [
    "Only needed to be done once:"
   ]
  },
  {
   "cell_type": "code",
   "execution_count": 10,
   "metadata": {
    "vscode": {
     "languageId": "r"
    }
   },
   "outputs": [
    {
     "name": "stderr",
     "output_type": "stream",
     "text": [
      "installiere auch Abhängigkeiten ‘arm’, ‘mi’, ‘sem’, ‘rstatix’, ‘MBESS’\n",
      "\n",
      "\n",
      "Aktualisiere HTML-Index der Pakete in '.Library'\n",
      "\n",
      "Making 'packages.html' ...\n",
      " fertig\n",
      "\n"
     ]
    }
   ],
   "source": [
    "packages <- c(\n",
    "  \"ez\", \"emmeans\", \"cowplot\", \"dplyr\", \"readr\", \"ggplot2\", \"lmerTest\", \n",
    "  \"hrbrthemes\", \"sjPlot\", \"sjmisc\", \"sjlabelled\", \"tidyr\", \"tidyverse\", \n",
    "  \"ggthemes\", \"ggpubr\", \"knitr\", \"jtools\", \"apaTables\", \"psych\", \"boot\"\n",
    ")\n",
    "\n",
    "install.packages(packages)"
   ]
  },
  {
   "cell_type": "code",
   "execution_count": null,
   "metadata": {
    "vscode": {
     "languageId": "r"
    }
   },
   "outputs": [],
   "source": [
    "# load libraries\n",
    "library(ez)\n",
    "citation(\"ez\")\n",
    "library(emmeans)\n",
    "citation(\"emmeans\")\n",
    "\n",
    "# Plotting and formatting\n",
    "library(cowplot)\n",
    "library(dplyr)\n",
    "library(readr) \n",
    "library(ggplot2)\n",
    "#library(lmerTest)\n",
    "library(hrbrthemes)\n",
    "library(sjPlot)\n",
    "library(sjmisc)\n",
    "library(sjlabelled)\n",
    "# Raincloud plot( from https://github.com/RainCloudPlots/RainCloudPlots):\n",
    "# this file needs to be in the same directory as the script\n",
    "source('R_rainclouds.R')\n",
    "library(tidyr)\n",
    "library(tidyverse)\n",
    "library(ggthemes)\n",
    "library(ggpubr)\n",
    "# Formatting\n",
    "library(knitr)\n",
    "library(jtools)\n",
    "library(apaTables)\n",
    "# Reliability\n",
    "library(psych)\n",
    "library(tidyr)\n",
    "library(boot)\n"
   ]
  },
  {
   "cell_type": "markdown",
   "metadata": {},
   "source": [
    "### Functions\n",
    "\n",
    "Helper functions that help organise and analyse the data"
   ]
  },
  {
   "cell_type": "code",
   "execution_count": null,
   "metadata": {
    "vscode": {
     "languageId": "r"
    }
   },
   "outputs": [],
   "source": [
    "# ver 2\n",
    "\n",
    "load_tmt <- function(subjects, root) {\n",
    "  # Create empty data frames\n",
    "  data_collective <- data.frame()\n",
    "  path_collective <- data.frame()\n",
    "  \n",
    "  # Loop through the subjects\n",
    "  for (i in 1:length(subjects)) {\n",
    "    # Construct the paths to the data files\n",
    "    data_path <- paste0(root, subjects[i], \"_TMT_behavior.csv\")\n",
    "    path_path <- paste0(root, subjects[i], \"_TMT_paths.csv\")\n",
    "    \n",
    "    # Load the data\n",
    "    data_tmt <- read.csv(data_path)\n",
    "    path_tmt <- read.csv(path_path)\n",
    "    \n",
    "    # Add the subject id\n",
    "    data_tmt$subject <- subjects[i]\n",
    "    path_tmt$subject <- subjects[i]\n",
    "    \n",
    "    # Bind the data\n",
    "    data_collective <- rbind(data_collective, data_tmt)\n",
    "    path_collective <- rbind(path_collective, path_tmt)\n",
    "  }\n",
    "  \n",
    "  return(list(data = data_collective, path = path_collective))\n",
    "}\n",
    "\n"
   ]
  },
  {
   "cell_type": "code",
   "execution_count": null,
   "metadata": {
    "vscode": {
     "languageId": "r"
    }
   },
   "outputs": [],
   "source": [
    "# Load the data\n",
    "\n",
    "# Example usage\n",
    "root <- '/Users/sztuka/Documents/ARCH2/data/behavioral/'\n",
    "subjects <- list.dirs(root, full.names = FALSE, recursive = FALSE)\n",
    "# list only sub-XXX names with no extensions\n",
    "subjects <- gsub(\"_TMT_behavior.csv\", \"\", subjects)\n",
    "# unique only\n",
    "subjects <- unique(subjects)\n",
    "\n",
    "result <- load_tmt(subjects, root)\n",
    "\n",
    "# Access the loaded data\n",
    "data_collective <- result$data\n",
    "path_collective <- result$path"
   ]
  }
 ],
 "metadata": {
  "kernelspec": {
   "display_name": "R",
   "language": "R",
   "name": "ir"
  },
  "language_info": {
   "codemirror_mode": "r",
   "file_extension": ".r",
   "mimetype": "text/x-r-source",
   "name": "R",
   "pygments_lexer": "r",
   "version": "4.4.2"
  }
 },
 "nbformat": 4,
 "nbformat_minor": 2
}
