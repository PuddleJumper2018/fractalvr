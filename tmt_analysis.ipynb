{
 "cells": [
  {
   "cell_type": "markdown",
   "metadata": {},
   "source": [
    "# Fractal VR TMT analysis. (in R)"
   ]
  },
  {
   "cell_type": "code",
   "execution_count": null,
   "metadata": {
    "vscode": {
     "languageId": "r"
    }
   },
   "outputs": [],
   "source": [
    "# libraries\n",
    "\n",
    "# List of packages to install\n",
    "packages <- c(\"ez\", \"emmeans\", \"cowplot\", \"dplyr\", \"readr\", \"ggplot2\", \"lmerTest\", \n",
    "              \"hrbrthemes\", \"sjPlot\", \"sjmisc\", \"sjlabelled\", \"tidyr\", \"tidyverse\", \n",
    "              \"ggthemes\", \"ggpubr\", \"knitr\", \"jtools\", \"apaTables\", \"psych\", \"boot\")\n",
    "\n",
    "# Install packages\n",
    "install.packages(packages)"
   ]
  },
  {
   "cell_type": "markdown",
   "metadata": {},
   "source": [
    "# load data"
   ]
  }
 ],
 "metadata": {
  "kernelspec": {
   "display_name": "R",
   "language": "R",
   "name": "ir"
  },
  "language_info": {
   "name": "R"
  }
 },
 "nbformat": 4,
 "nbformat_minor": 2
}
