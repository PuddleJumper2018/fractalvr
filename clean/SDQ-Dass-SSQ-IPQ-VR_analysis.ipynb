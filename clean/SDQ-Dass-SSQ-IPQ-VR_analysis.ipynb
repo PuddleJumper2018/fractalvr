{
 "cells": [
  {
   "cell_type": "markdown",
   "metadata": {},
   "source": [
    "# Fractal VR SDQ-DASS-SSQ-IPQ-VR experience analysis. (in R)\n",
    "\n",
    "\n",
    "This notebook is running behavioral analysis of Fractal VR data. \n"
   ]
  },
  {
   "cell_type": "markdown",
   "metadata": {},
   "source": [
    "## Socio Demographic Questions check"
   ]
  },
  {
   "cell_type": "code",
   "execution_count": null,
   "metadata": {
    "vscode": {
     "languageId": "r"
    }
   },
   "outputs": [
    {
     "name": "stdout",
     "output_type": "stream",
     "text": [
      "\n",
      "Die heruntergeladenen Bin\"arpakete sind in \n",
      "\t/var/folders/yr/7rrnl49x4hlcxhdhq2vmvh7c0000gn/T//RtmplVCxOT/downloaded_packages\n"
     ]
    },
    {
     "name": "stderr",
     "output_type": "stream",
     "text": [
      "installiere auch Abh\"angigkeit 'cards'\n",
      "\n",
      "\n"
     ]
    },
    {
     "name": "stdout",
     "output_type": "stream",
     "text": [
      "\n",
      "Die heruntergeladenen Bin\"arpakete sind in \n",
      "\t/var/folders/yr/7rrnl49x4hlcxhdhq2vmvh7c0000gn/T//RtmplVCxOT/downloaded_packages\n"
     ]
    }
   ],
   "source": [
    "############################################################\n",
    "#  Script:   Recode questionnaire data and print APA tables\n",
    "#  Author:   <Your Name>\n",
    "#  Date:     2025‑05‑05\n",
    "#  title: \"Your Report\"\n",
    "#  output: html_document\n",
    "############################################################\n",
    "\n",
    "\n",
    "\n",
    "# ------------------ 0. Install & load required packages ------------------\n",
    "required_pkgs <- c(\"tidyverse\",   # readr, dplyr, stringr, …\n",
    "                   \"janitor\",     # quick tabulation / name cleaning\n",
    "                   \"remotes\",     # to install GitHub packages\n",
    "                   \"apaTables\")   # extra APA helpers\n",
    "to_install <- setdiff(required_pkgs, rownames(installed.packages()))\n",
    "if (length(to_install)) install.packages(to_install, dependencies = TRUE)\n",
    "\n",
    "install.packages(\"gt\")\n",
    "install.packages(\"gtsummary\")\n",
    "\n",
    "# papaja lives on GitHub\n",
    "if (!requireNamespace(\"papaja\", quietly = TRUE)) {\n",
    "  remotes::install_github(\"crsh/papaja\")\n",
    "}\n",
    "\n",
    "suppressPackageStartupMessages({\n",
    "  library(tidyverse)\n",
    "  library(janitor)\n",
    "  library(apaTables)\n",
    "  library(papaja)   \n",
    "  library(gt) # For creating clean HTML tables\n",
    "  library(gtsummary) # For APA-style summary tables\n",
    "  library(dplyr)  # provides apa_table()\n",
    "\n",
    "})\n",
    "\n"
   ]
  },
  {
   "cell_type": "code",
   "execution_count": 32,
   "metadata": {
    "vscode": {
     "languageId": "r"
    }
   },
   "outputs": [
    {
     "name": "stderr",
     "output_type": "stream",
     "text": [
      "The data set now contains 36 unique participants (after exclusion).\n",
      "\n",
      "The data set contains 36 unique participants (expected = 40).\n",
      "\n"
     ]
    },
    {
     "data": {
      "text/plain": [
       "\n",
       "\n",
       "|sex    |  n|\n",
       "|:------|--:|\n",
       "|Female | 15|\n",
       "|Male   | 21|\n",
       "|Total  | 36|"
      ]
     },
     "metadata": {},
     "output_type": "display_data"
    },
    {
     "data": {
      "text/plain": [
       "\n",
       "\n",
       "|handedness     |  n|\n",
       "|:--------------|--:|\n",
       "|Right - handed | 36|\n",
       "|Total          | 36|"
      ]
     },
     "metadata": {},
     "output_type": "display_data"
    },
    {
     "data": {
      "text/plain": [
       "\n",
       "\n",
       "|arch_background |  n|\n",
       "|:---------------|--:|\n",
       "|Yes             |  2|\n",
       "|No              | 34|\n",
       "|Total           | 36|"
      ]
     },
     "metadata": {},
     "output_type": "display_data"
    },
    {
     "data": {
      "text/plain": [
       "\n",
       "\n",
       "|envsci_background |  n|\n",
       "|:-----------------|--:|\n",
       "|Yes               |  3|\n",
       "|No                | 33|\n",
       "|Total             | 36|"
      ]
     },
     "metadata": {},
     "output_type": "display_data"
    },
    {
     "data": {
      "text/plain": [
       "\n",
       "\n",
       "|income          |  n|\n",
       "|:---------------|--:|\n",
       "|under EUR 1250  | 15|\n",
       "|EUR 1250 - 1749 |  7|\n",
       "|EUR 2250 - 2999 |  5|\n",
       "|EUR 3000 - 3999 |  4|\n",
       "|EUR 4000 - 4999 |  2|\n",
       "|over EUR 5000   |  1|\n",
       "|no answer       |  2|\n",
       "|Total           | 36|"
      ]
     },
     "metadata": {},
     "output_type": "display_data"
    },
    {
     "data": {
      "text/plain": [
       "\n",
       "\n",
       "|german_native  |  n|\n",
       "|:--------------|--:|\n",
       "|German + other |  9|\n",
       "|German only    | 27|\n",
       "|Total          | 36|"
      ]
     },
     "metadata": {},
     "output_type": "display_data"
    },
    {
     "name": "stdout",
     "output_type": "stream",
     "text": [
      "\n",
      "\n",
      "### Sex ###\n",
      "[1] \"\\n\\n\\n\\\\begin{table}[tbp]\\n\\n\\\\begin{center}\\n\\\\begin{threeparttable}\\n\\n\\\\caption{Frequencies of Sex.}\\n\\n\\\\begin{tabular}{ll}\\n\\\\toprule\\nsex & \\\\multicolumn{1}{c}{n}\\\\\\\\\\n\\\\midrule\\nFemale & 15\\\\\\\\\\nMale & 21\\\\\\\\\\nTotal & 36\\\\\\\\\\n\\\\bottomrule\\n\\\\end{tabular}\\n\\n\\\\end{threeparttable}\\n\\\\end{center}\\n\\n\\\\end{table}\\n\\n\\n\"\n",
      "attr(,\"class\")\n",
      "[1] \"knit_asis\"\n",
      "attr(,\"knit_cacheable\")\n",
      "[1] NA\n",
      "\n",
      "\n",
      "### Handedness ###\n",
      "[1] \"\\n\\n\\n\\\\begin{table}[tbp]\\n\\n\\\\begin{center}\\n\\\\begin{threeparttable}\\n\\n\\\\caption{Frequencies of Handedness.}\\n\\n\\\\begin{tabular}{ll}\\n\\\\toprule\\nhandedness & \\\\multicolumn{1}{c}{n}\\\\\\\\\\n\\\\midrule\\nRight - handed & 36\\\\\\\\\\nTotal & 36\\\\\\\\\\n\\\\bottomrule\\n\\\\end{tabular}\\n\\n\\\\end{threeparttable}\\n\\\\end{center}\\n\\n\\\\end{table}\\n\\n\\n\"\n",
      "attr(,\"class\")\n",
      "[1] \"knit_asis\"\n",
      "attr(,\"knit_cacheable\")\n",
      "[1] NA\n",
      "\n",
      "\n",
      "### Architecture_background ###\n",
      "[1] \"\\n\\n\\n\\\\begin{table}[tbp]\\n\\n\\\\begin{center}\\n\\\\begin{threeparttable}\\n\\n\\\\caption{Frequencies of Architecture\\\\_background.}\\n\\n\\\\begin{tabular}{ll}\\n\\\\toprule\\narch\\\\_background & \\\\multicolumn{1}{c}{n}\\\\\\\\\\n\\\\midrule\\nYes & 2\\\\\\\\\\nNo & 34\\\\\\\\\\nTotal & 36\\\\\\\\\\n\\\\bottomrule\\n\\\\end{tabular}\\n\\n\\\\end{threeparttable}\\n\\\\end{center}\\n\\n\\\\end{table}\\n\\n\\n\"\n",
      "attr(,\"class\")\n",
      "[1] \"knit_asis\"\n",
      "attr(,\"knit_cacheable\")\n",
      "[1] NA\n",
      "\n",
      "\n",
      "### EnvSci_background ###\n",
      "[1] \"\\n\\n\\n\\\\begin{table}[tbp]\\n\\n\\\\begin{center}\\n\\\\begin{threeparttable}\\n\\n\\\\caption{Frequencies of EnvSci\\\\_background.}\\n\\n\\\\begin{tabular}{ll}\\n\\\\toprule\\nenvsci\\\\_background & \\\\multicolumn{1}{c}{n}\\\\\\\\\\n\\\\midrule\\nYes & 3\\\\\\\\\\nNo & 33\\\\\\\\\\nTotal & 36\\\\\\\\\\n\\\\bottomrule\\n\\\\end{tabular}\\n\\n\\\\end{threeparttable}\\n\\\\end{center}\\n\\n\\\\end{table}\\n\\n\\n\"\n",
      "attr(,\"class\")\n",
      "[1] \"knit_asis\"\n",
      "attr(,\"knit_cacheable\")\n",
      "[1] NA\n",
      "\n",
      "\n",
      "### Income ###\n",
      "[1] \"\\n\\n\\n\\\\begin{table}[tbp]\\n\\n\\\\begin{center}\\n\\\\begin{threeparttable}\\n\\n\\\\caption{Frequencies of Income.}\\n\\n\\\\begin{tabular}{ll}\\n\\\\toprule\\nincome & \\\\multicolumn{1}{c}{n}\\\\\\\\\\n\\\\midrule\\nunder EUR 1250 & 15\\\\\\\\\\nEUR 1250 - 1749 & 7\\\\\\\\\\nEUR 2250 - 2999 & 5\\\\\\\\\\nEUR 3000 - 3999 & 4\\\\\\\\\\nEUR 4000 - 4999 & 2\\\\\\\\\\nover EUR 5000 & 1\\\\\\\\\\nno answer & 2\\\\\\\\\\nTotal & 36\\\\\\\\\\n\\\\bottomrule\\n\\\\end{tabular}\\n\\n\\\\end{threeparttable}\\n\\\\end{center}\\n\\n\\\\end{table}\\n\\n\\n\"\n",
      "attr(,\"class\")\n",
      "[1] \"knit_asis\"\n",
      "attr(,\"knit_cacheable\")\n",
      "[1] NA\n",
      "\n",
      "\n",
      "### Mother_tongue ###\n",
      "[1] \"\\n\\n\\n\\\\begin{table}[tbp]\\n\\n\\\\begin{center}\\n\\\\begin{threeparttable}\\n\\n\\\\caption{Frequencies of Mother\\\\_tongue.}\\n\\n\\\\begin{tabular}{ll}\\n\\\\toprule\\ngerman\\\\_native & \\\\multicolumn{1}{c}{n}\\\\\\\\\\n\\\\midrule\\nGerman + other & 9\\\\\\\\\\nGerman only & 27\\\\\\\\\\nTotal & 36\\\\\\\\\\n\\\\bottomrule\\n\\\\end{tabular}\\n\\n\\\\end{threeparttable}\\n\\\\end{center}\\n\\n\\\\end{table}\\n\\n\\n\"\n",
      "attr(,\"class\")\n",
      "[1] \"knit_asis\"\n",
      "attr(,\"knit_cacheable\")\n",
      "[1] NA\n"
     ]
    }
   ],
   "source": [
    "\n",
    "\n",
    "# ------------------ 1. Read the data ------------------\n",
    "data_file <- \"/Users/jiaonahu/Documents/fractalvr-data/SDQ-all.csv\"        # <—‑ change to your CSV path\n",
    "raw_df <- read_csv(data_file, show_col_types = FALSE) %>% \n",
    "  clean_names()                   # lower‑case names with underscores\n",
    "\n",
    "# ------------------ 2. Recode variables ------------------\n",
    "df <- raw_df %>%\n",
    "  mutate(\n",
    "    subject_id = v_1,\n",
    "    sex = case_when(\n",
    "      v_32 == 2 ~ \"Female\",\n",
    "      v_32 == 3 ~ \"Male\",\n",
    "      TRUE      ~ NA_character_\n",
    "    ),\n",
    "    handedness = case_when(\n",
    "      v_35 == 1 ~ \"Right - handed\",\n",
    "      v_35 == 2 ~ \"Left - handed\",\n",
    "      TRUE      ~ NA_character_\n",
    "    ),\n",
    "    arch_background = recode_factor(\n",
    "      v_54,\n",
    "      `1` = \"Yes\",\n",
    "      `2` = \"No\",\n",
    "      .default = NA_character_\n",
    "    ),\n",
    "    envsci_background = recode_factor(\n",
    "      v_40,\n",
    "      `1` = \"Yes\",\n",
    "      `2` = \"No\",\n",
    "      .default = NA_character_\n",
    "    ),\n",
    "    income = factor(\n",
    "      v_42,\n",
    "      levels = 1:8,\n",
    "      labels = c(\"under EUR 1250\",\n",
    "                 \"EUR 1250 - 1749\",\n",
    "                 \"EUR 1750 - 2249\",\n",
    "                 \"EUR 2250 - 2999\",\n",
    "                 \"EUR 3000 - 3999\",\n",
    "                 \"EUR 4000 - 4999\",\n",
    "                 \"over EUR 5000\",\n",
    "                 \"no answer\")\n",
    "    ),\n",
    "    # German‑only native speakers vs all others\n",
    "    german_native = case_when(\n",
    "      str_detect(str_to_lower(v_56), \"^deu(tsch)?$|^german$\") ~ \"German only\",\n",
    "      is.na(v_56)                                             ~ NA_character_,\n",
    "      TRUE                                                    ~ \"German + other\"\n",
    "    )\n",
    "  )\n",
    "\n",
    "# ------------------ 2b. Exclude specific participants ------------------\n",
    "excluded_ids <- c(\"Z2CN1H\", \"YG0DT2\", \"JGMJ5P\", \"MX16R1\")\n",
    "df <- df %>% filter(!subject_id %in% excluded_ids)\n",
    "\n",
    "# Update subject count\n",
    "n_subj <- n_distinct(df$subject_id)\n",
    "message(\"The data set now contains \", n_subj, \" unique participants (after exclusion).\")\n",
    "\n",
    "# ------------------ 3. Integrity check ------------------\n",
    "n_subj <- n_distinct(df$subject_id)\n",
    "message(\"The data set contains \", n_subj,\n",
    "        \" unique participants (expected = 40).\")\n",
    "\n",
    "# ------------------ 4. APA‑formatted frequency tables ------------------\n",
    "freq_tables <- list(\n",
    "  Sex                     = df %>% count(sex)               %>% adorn_totals(\"row\"),\n",
    "  Handedness              = df %>% count(handedness)        %>% adorn_totals(\"row\"),\n",
    "  Architecture_background = df %>% count(arch_background)   %>% adorn_totals(\"row\"),\n",
    "  EnvSci_background       = df %>% count(envsci_background) %>% adorn_totals(\"row\"),\n",
    "  Income                  = df %>% count(income)            %>% adorn_totals(\"row\"),\n",
    "  Mother_tongue           = df %>% count(german_native)     %>% adorn_totals(\"row\")\n",
    ")\n",
    "\n",
    "# quick console preview\n",
    "knitr::kable(freq_tables[[\"Sex\"]])\n",
    "knitr::kable(freq_tables[[\"Handedness\"]])\n",
    "knitr::kable(freq_tables[[\"Architecture_background\"]])\n",
    "knitr::kable(freq_tables[[\"EnvSci_background\"]])\n",
    "knitr::kable(freq_tables[[\"Income\"]])\n",
    "knitr::kable(freq_tables[[\"Mother_tongue\"]])\n",
    "\n",
    "\n",
    "\n",
    "for (nm in names(freq_tables)) {\n",
    "  cat(\"\\n\\n### \", nm, \" ###\\n\", sep = \"\")\n",
    "  print(\n",
    "    papaja::apa_table(\n",
    "      freq_tables[[nm]],\n",
    "      caption = paste0(\"Frequencies of \", nm, \".\"),\n",
    "      format  = if (interactive()) \"markdown\" else \"latex\"  # markdown in console, latex when knitting\n",
    "    )\n",
    "  )\n",
    "}\n",
    "\n",
    "# Convert each frequency table into long format with a 'Variable' column\n",
    "make_table <- function(tbl, var_name) {\n",
    "  tbl %>%\n",
    "    mutate(Variable = var_name) %>%\n",
    "    select(Variable, everything())\n",
    "}\n",
    "\n",
    "\n"
   ]
  },
  {
   "cell_type": "markdown",
   "metadata": {},
   "source": [
    "export APA table"
   ]
  },
  {
   "cell_type": "code",
   "execution_count": 33,
   "metadata": {
    "vscode": {
     "languageId": "r"
    }
   },
   "outputs": [],
   "source": [
    "# Create an ungrouped demographic summary table\n",
    "table_summary <- df %>%\n",
    "  # Select relevant sociodemographic variables\n",
    "  select(sex, handedness, arch_background, envsci_background, income, german_native) %>%\n",
    "  \n",
    "  # Create summary table showing n (%) for each category\n",
    "  tbl_summary(\n",
    "    statistic = list(all_categorical() ~ \"{n} ({p}%)\"),  # show count and percent\n",
    "    label = list(  # Rename variables for display\n",
    "      sex ~ \"Sex\",\n",
    "      handedness ~ \"Handedness\",\n",
    "      arch_background ~ \"Architecture Background\",\n",
    "      envsci_background ~ \"Environmental Science Background\",\n",
    "      income ~ \"Household Income\",\n",
    "      german_native ~ \"German Proficiency\"\n",
    "    ),\n",
    "    missing = \"no\"  # Do not display missing values\n",
    "  ) %>%\n",
    "  modify_header(label ~ \"**Variable**\") %>%  # Bold the \"Variable\" header\n",
    "  bold_labels()  # Bold all variable labels\n",
    "\n",
    "# Convert the table into a displayable HTML format using gt\n",
    "gt_table <- as_gt(table_summary)\n",
    "\n",
    "# Save the HTML table and open it in the browser (e.g., Safari)\n",
    "gtsave(gt_table, \"sociodemo_summary_nogroup.html\")\n",
    "browseURL(\"sociodemo_summary_nogroup.html\")"
   ]
  },
  {
   "cell_type": "markdown",
   "metadata": {},
   "source": [
    "## VR experience"
   ]
  },
  {
   "cell_type": "code",
   "execution_count": 26,
   "metadata": {
    "vscode": {
     "languageId": "r"
    }
   },
   "outputs": [
    {
     "name": "stdout",
     "output_type": "stream",
     "text": [
      "\n",
      "Die heruntergeladenen Bin\"arpakete sind in \n",
      "\t/var/folders/yr/7rrnl49x4hlcxhdhq2vmvh7c0000gn/T//RtmplVCxOT/downloaded_packages\n"
     ]
    },
    {
     "name": "stderr",
     "output_type": "stream",
     "text": [
      "Skipping install of 'papaja' from a github remote, the SHA1 (18484f48) has not changed since last install.\n",
      "  Use `force = TRUE` to force installation\n",
      "\n"
     ]
    }
   ],
   "source": [
    "install.packages(c(\"tidyverse\", \"janitor\", \"readxl\", \"gt\", \"gtsummary\"))\n",
    "if (!requireNamespace(\"remotes\", quietly = TRUE)) install.packages(\"remotes\")\n",
    "remotes::install_github(\"crsh/papaja\")\n"
   ]
  },
  {
   "cell_type": "code",
   "execution_count": 40,
   "metadata": {
    "vscode": {
     "languageId": "r"
    }
   },
   "outputs": [],
   "source": [
    "# ------------------ Load Packages ------------------\n",
    "library(tidyverse)\n",
    "library(readxl)\n",
    "library(janitor)\n",
    "library(gt)\n",
    "library(gtsummary)\n",
    "\n",
    "# ------------------ 1. Read the data ------------------\n",
    "file_path <- \"/Users/jiaonahu/Documents/fractalvr-data/experience with VR.xlsx\"  \n",
    "df <- read_excel(file_path) %>% clean_names()\n",
    "\n",
    "# ------------------ 2. Recode Variables ------------------\n",
    "df <- df %>%\n",
    "  mutate(\n",
    "    subject_id = v_1,  # <<== create subject_id\n",
    "    vr_experience = recode_factor(\n",
    "      as.character(v_58),\n",
    "      `1` = \"Ja\",\n",
    "      `2` = \"Nein\",\n",
    "      `3` = \"Keine Angabe\"\n",
    "    ),\n",
    "    gaming_frequency = recode_factor(\n",
    "      as.character(v_70),\n",
    "      `1` = \"Niemals\",\n",
    "      `2` = \"Weniger als einmal pro Woche\",\n",
    "      `3` = \"Einmal pro Woche\",\n",
    "      `4` = \"Mehrmals pro Woche\",\n",
    "      `5` = \"Jeden Tag\"\n",
    "    )\n",
    "  )\n",
    "\n",
    "# ------------------ 2b. Exclude Specific Participants ------------------\n",
    "excluded_ids <- c(\"Z2CN1H\", \"YG0DT2\", \"JGMJ5P\", \"MX16R1\")\n",
    "df <- df %>% filter(!subject_id %in% excluded_ids)\n",
    "\n",
    "# ------------------ 3. Create Summary Table ------------------\n",
    "table_summary <- df %>%\n",
    "  select(vr_experience, gaming_frequency) %>%\n",
    "  tbl_summary(\n",
    "    statistic = list(all_categorical() ~ \"{n} ({p}%)\"),\n",
    "    label = list(\n",
    "      vr_experience ~ \"VR Experience\",\n",
    "      gaming_frequency ~ \"Gaming Frequency\"\n",
    "    ),\n",
    "    missing = \"no\"\n",
    "  ) %>%\n",
    "  modify_header(label ~ \"**Variable**\") %>%\n",
    "  bold_labels()\n",
    "\n",
    "# ------------------ 4. Export as HTML ------------------\n",
    "gt_table <- as_gt(table_summary)\n",
    "gtsave(gt_table, \"vr_gaming_summary.html\")\n",
    "browseURL(\"vr_gaming_summary.html\")"
   ]
  },
  {
   "cell_type": "code",
   "execution_count": 43,
   "metadata": {
    "vscode": {
     "languageId": "r"
    }
   },
   "outputs": [
    {
     "name": "stdout",
     "output_type": "stream",
     "text": [
      "\u001b[90m# A tibble: 10 x 1\u001b[39m\n",
      "   subject_id\n",
      "   \u001b[3m\u001b[90m<chr>\u001b[39m\u001b[23m     \n",
      "\u001b[90m 1\u001b[39m AAU5L2    \n",
      "\u001b[90m 2\u001b[39m PVAA50    \n",
      "\u001b[90m 3\u001b[39m MNQJJL    \n",
      "\u001b[90m 4\u001b[39m J3R7L4    \n",
      "\u001b[90m 5\u001b[39m 6AAVN4    \n",
      "\u001b[90m 6\u001b[39m MARMAA    \n",
      "\u001b[90m 7\u001b[39m VM3K4U    \n",
      "\u001b[90m 8\u001b[39m MPN87Y    \n",
      "\u001b[90m 9\u001b[39m 86L56R    \n",
      "\u001b[90m10\u001b[39m FX4L2F    \n"
     ]
    }
   ],
   "source": [
    "# ------------------ Select participants with no VR experience ------------------\n",
    "\n",
    "# Filter the dataset for participants who answered \"Nein\" (no) to the VR experience question\n",
    "# Select only the 'subject_id' column for those participants\n",
    "no_vr_ids <- df %>%\n",
    "  filter(vr_experience == \"Nein\") %>%\n",
    "  select(subject_id)\n",
    "\n",
    "# Print the resulting IDs to the console\n",
    "print(no_vr_ids)"
   ]
  },
  {
   "cell_type": "code",
   "execution_count": 45,
   "metadata": {
    "vscode": {
     "languageId": "r"
    }
   },
   "outputs": [
    {
     "name": "stdout",
     "output_type": "stream",
     "text": [
      "<U+2705> Total IDs in user-provided list:  25 \n",
      "<U+2705> Total IDs in data with no VR experience:  10 \n",
      "<U+0001F501> Number of overlapping IDs:  7 \n",
      "<U+0001F4CA> Overlap percentage:  28 %\n",
      "\n",
      "<U+0001F4CA> Overlap percentage from data perspective:  70 %\n",
      "<U+2705> Overlapping IDs:\n",
      "[1] \"6AAVN4\" \"86L56R\" \"AAU5L2\" \"FX4L2F\" \"J3R7L4\" \"MARMAA\" \"MNQJJL\"\n",
      "\n",
      "<U+274C> IDs only in user-provided list:\n",
      " [1] \"0FJ87G\" \"1LCED7\" \"5Z6HUD\" \"CNYTQ6\" \"E3R3C1\" \"F3N17K\" \"GE00WM\" \"GH9FPG\"\n",
      " [9] \"KQT35L\" \"KWCTKJ\" \"N6FGR8\" \"RJ70HQ\" \"RQGUR7\" \"VVXYT5\" \"X37HQQ\" \"XRDKL8\"\n",
      "[17] \"Y98J0U\" \"Z6WJKG\"\n",
      "\n",
      "<U+274C> IDs only in data (not in user-provided list):\n",
      "[1] \"PVAA50\" \"VM3K4U\" \"MPN87Y\"\n"
     ]
    }
   ],
   "source": [
    "# ------------------ User-provided list of subject IDs ------------------\n",
    "user_ids <- c(\"0FJ87G\", \"1LCED7\", \"5Z6HUD\", \"6AAVN4\", \"86L56R\", \"AAU5L2\", \"CNYTQ6\", \"E3R3C1\",\n",
    "              \"F3N17K\", \"FX4L2F\", \"GE00WM\", \"GH9FPG\", \"J3R7L4\", \"KQT35L\", \"KWCTKJ\", \"MARMAA\",\n",
    "              \"MNQJJL\", \"N6FGR8\", \"RJ70HQ\", \"RQGUR7\", \"VVXYT5\", \"X37HQQ\", \"XRDKL8\", \"Y98J0U\",\n",
    "              \"Z6WJKG\")\n",
    "\n",
    "# ------------------ Extract IDs from your data where VR experience == \"Nein\" ------------------\n",
    "# Convert the column from the previous selection to a simple vector\n",
    "data_ids <- pull(no_vr_ids, subject_id)\n",
    "\n",
    "# ------------------ Compare and calculate overlaps ------------------\n",
    "\n",
    "# Find IDs that appear in both lists\n",
    "overlap <- intersect(user_ids, data_ids)\n",
    "\n",
    "# Find IDs that are only in the user-provided list\n",
    "only_in_user <- setdiff(user_ids, data_ids)\n",
    "\n",
    "# Find IDs that are only in the data (i.e., not in user list)\n",
    "only_in_data <- setdiff(data_ids, user_ids)\n",
    "\n",
    "# ------------------ Print summary of overlap ------------------\n",
    "\n",
    "# Print basic statistics\n",
    "cat(\"✅ Total IDs in user-provided list: \", length(user_ids), \"\\n\")\n",
    "cat(\"✅ Total IDs in data with no VR experience: \", length(data_ids), \"\\n\")\n",
    "cat(\"🔁 Number of overlapping IDs: \", length(overlap), \"\\n\")\n",
    "cat(\"📊 Overlap percentage: \", round(length(overlap) / length(user_ids) * 100, 1), \"%\\n\\n\")\n",
    "cat(\"📊 Overlap percentage from data perspective: \", round(length(overlap) / length(data_ids) * 100, 1), \"%\\n\")\n",
    "\n",
    "# Print overlapping IDs\n",
    "cat(\"✅ Overlapping IDs:\\n\")\n",
    "print(overlap)\n",
    "\n",
    "# Print IDs only in user list\n",
    "cat(\"\\n❌ IDs only in user-provided list:\\n\")\n",
    "print(only_in_user)\n",
    "\n",
    "# Print IDs only in the dataset\n",
    "cat(\"\\n❌ IDs only in data (not in user-provided list):\\n\")\n",
    "print(only_in_data)\n"
   ]
  },
  {
   "cell_type": "markdown",
   "metadata": {},
   "source": [
    "## DASS-21"
   ]
  },
  {
   "cell_type": "code",
   "execution_count": 66,
   "metadata": {
    "vscode": {
     "languageId": "r"
    }
   },
   "outputs": [
    {
     "name": "stdout",
     "output_type": "stream",
     "text": [
      "\u001b[90m# A tibble: 36 x 7\u001b[39m\n",
      "   v_1    Depression_score Depression_level Anxiety_score Anxiety_level\n",
      "   \u001b[3m\u001b[90m<chr>\u001b[39m\u001b[23m             \u001b[3m\u001b[90m<dbl>\u001b[39m\u001b[23m \u001b[3m\u001b[90m<chr>\u001b[39m\u001b[23m                    \u001b[3m\u001b[90m<dbl>\u001b[39m\u001b[23m \u001b[3m\u001b[90m<chr>\u001b[39m\u001b[23m        \n",
      "\u001b[90m 1\u001b[39m N6FGR8                0 Normal                       0 Normal       \n",
      "\u001b[90m 2\u001b[39m AAU5L2                0 Normal                       0 Normal       \n",
      "\u001b[90m 3\u001b[39m Y6WJKG                0 Normal                       0 Normal       \n",
      "\u001b[90m 4\u001b[39m 1L9FCD               10 Mild                         4 Normal       \n",
      "\u001b[90m 5\u001b[39m KQT35L               12 Mild                         2 Normal       \n",
      "\u001b[90m 6\u001b[39m V4JN59                2 Normal                       0 Normal       \n",
      "\u001b[90m 7\u001b[39m VVXYJ5                0 Normal                       0 Normal       \n",
      "\u001b[90m 8\u001b[39m E3R3C1                2 Normal                       2 Normal       \n",
      "\u001b[90m 9\u001b[39m FA5FCX                2 Normal                       2 Normal       \n",
      "\u001b[90m10\u001b[39m KWCTKJ                0 Normal                       0 Normal       \n",
      "\u001b[90m# i 26 more rows\u001b[39m\n",
      "\u001b[90m# i 2 more variables: Stress_score <dbl>, Stress_level <chr>\u001b[39m\n",
      "\n",
      "<U+2705> Total participants after exclusion: 36 \n",
      "<U+2705> Participants with all Normal scores: 26 \n"
     ]
    }
   ],
   "source": [
    "# --------------------- Setup ---------------------\n",
    "library(readxl)\n",
    "library(dplyr)\n",
    "\n",
    "# 1. Load Excel file\n",
    "file_path <- \"/Users/jiaonahu/Documents/fractalvr-data/DASS-pre.xlsx\"\n",
    "df <- read_excel(file_path)\n",
    "\n",
    "# 2. Clean ID column\n",
    "df <- df %>%\n",
    "  mutate(v_1 = trimws(as.character(v_1)))  # Ensure lfdn is character and trimmed\n",
    "\n",
    "# 3. Exclude specific participant IDs\n",
    "excluded_ids <- c(\"Z2CN1H\", \"YG0DT2\", \"JGMJ5P\", \"MX16R1\")\n",
    "df <- df %>% filter(!v_1 %in% excluded_ids)\n",
    "\n",
    "# 4. Convert all DASS items (1–4) to DASS standard scale (0–3)\n",
    "df <- df %>%\n",
    "  mutate(across(v_72:v_92, ~ . - 1))  # Subtract 1 from each response\n",
    "\n",
    "# 5. Compute scores\n",
    "df <- df %>%\n",
    "  mutate(\n",
    "    # Depression (Q3, Q5, Q10, Q13, Q16, Q17, Q21)\n",
    "    Depression_raw = rowSums(select(., v_74, v_76, v_81, v_84, v_87, v_88, v_92), na.rm = TRUE),\n",
    "    Depression_score = Depression_raw * 2,\n",
    "\n",
    "    # Anxiety (Q2, Q4, Q7, Q9, Q15, Q19, Q20)\n",
    "    Anxiety_raw = rowSums(select(., v_73, v_75, v_78, v_80, v_86, v_90, v_91), na.rm = TRUE),\n",
    "    Anxiety_score = Anxiety_raw * 2,\n",
    "\n",
    "    # Stress (Q1, Q6, Q8, Q11, Q12, Q14, Q18)\n",
    "    Stress_raw = rowSums(select(., v_72, v_77, v_79, v_82, v_83, v_85, v_89), na.rm = TRUE),\n",
    "    Stress_score = Stress_raw * 2\n",
    "  )\n",
    "\n",
    "# 6. Classify severity levels\n",
    "df <- df %>%\n",
    "  mutate(\n",
    "    Depression_level = case_when(\n",
    "      Depression_score <= 9  ~ \"Normal\",\n",
    "      Depression_score <= 13 ~ \"Mild\",\n",
    "      Depression_score <= 20 ~ \"Moderate\",\n",
    "      Depression_score <= 27 ~ \"Severe\",\n",
    "      TRUE                   ~ \"Extremely Severe\"\n",
    "    ),\n",
    "    Anxiety_level = case_when(\n",
    "      Anxiety_score <= 7  ~ \"Normal\",\n",
    "      Anxiety_score <= 9  ~ \"Mild\",\n",
    "      Anxiety_score <= 14 ~ \"Moderate\",\n",
    "      Anxiety_score <= 19 ~ \"Severe\",\n",
    "      TRUE                ~ \"Extremely Severe\"\n",
    "    ),\n",
    "    Stress_level = case_when(\n",
    "      Stress_score <= 14 ~ \"Normal\",\n",
    "      Stress_score <= 18 ~ \"Mild\",\n",
    "      Stress_score <= 25 ~ \"Moderate\",\n",
    "      Stress_score <= 33 ~ \"Severe\",\n",
    "      TRUE               ~ \"Extremely Severe\"\n",
    "    )\n",
    "  )\n",
    "\n",
    "# 7. Print full results\n",
    "print(df %>% select(v_1,\n",
    "                    Depression_score, Depression_level,\n",
    "                    Anxiety_score, Anxiety_level,\n",
    "                    Stress_score, Stress_level))\n",
    "\n",
    "# 8. Summary statistics\n",
    "total_remaining <- nrow(df)\n",
    "cat(\"\\n✅ Total participants after exclusion:\", total_remaining, \"\\n\")\n",
    "\n",
    "all_normal <- df %>%\n",
    "  filter(Depression_level == \"Normal\",\n",
    "         Anxiety_level == \"Normal\",\n",
    "         Stress_level == \"Normal\") %>%\n",
    "  nrow()\n",
    "\n",
    "cat(\"✅ Participants with all Normal scores:\", all_normal, \"\\n\")\n"
   ]
  },
  {
   "cell_type": "code",
   "execution_count": 67,
   "metadata": {
    "vscode": {
     "languageId": "r"
    }
   },
   "outputs": [
    {
     "name": "stdout",
     "output_type": "stream",
     "text": [
      "<U+2705> IDs of participants with elevated scores (not all 'Normal'):\n",
      " [1] \"1L9FCD\" \"KQT35L\" \"PVAA50\" \"J3R7L4\" \"F3N17K\" \"MARMAA\" \"4VP5UW\" \"VM3K4U\"\n",
      " [9] \"1LCED7\" \"86L56R\"\n"
     ]
    }
   ],
   "source": [
    "# Identify participants with at least one dimension not \"Normal\"\n",
    "not_all_normal <- df %>%\n",
    "  filter(Depression_level != \"Normal\" |\n",
    "         Anxiety_level != \"Normal\" |\n",
    "         Stress_level != \"Normal\")\n",
    "\n",
    "# Print their IDs\n",
    "cat(\"✅ IDs of participants with elevated scores (not all 'Normal'):\\n\")\n",
    "print(not_all_normal$v_1)\n"
   ]
  },
  {
   "cell_type": "code",
   "execution_count": 68,
   "metadata": {
    "vscode": {
     "languageId": "r"
    }
   },
   "outputs": [
    {
     "name": "stdout",
     "output_type": "stream",
     "text": [
      "\n",
      "<U+0001F4CB> Comparison Summary:\n",
      "<U+2705> Total IDs in user-provided list:  25 \n",
      "<U+2705> Total IDs with elevated DASS scores:  10 \n",
      "<U+0001F501> Number of overlapping IDs:  6 \n",
      "<U+0001F4CA> Overlap percentage (user list):  24 %\n",
      "<U+0001F4CA> Overlap percentage (elevated participants):  60 %\n",
      "\n",
      "<U+2705> Overlapping IDs:\n",
      "[1] \"1LCED7\" \"86L56R\" \"F3N17K\" \"J3R7L4\" \"KQT35L\" \"MARMAA\"\n",
      "\n",
      "<U+274C> IDs only in user-provided list:\n",
      " [1] \"0FJ87G\" \"5Z6HUD\" \"6AAVN4\" \"AAU5L2\" \"CNYTQ6\" \"E3R3C1\" \"FX4L2F\" \"GE00WM\"\n",
      " [9] \"GH9FPG\" \"KWCTKJ\" \"MNQJJL\" \"N6FGR8\" \"RJ70HQ\" \"RQGUR7\" \"VVXYT5\" \"X37HQQ\"\n",
      "[17] \"XRDKL8\" \"Y98J0U\" \"Z6WJKG\"\n",
      "\n",
      "<U+274C> IDs only in elevated score group (not in user list):\n",
      "[1] \"1L9FCD\" \"PVAA50\" \"4VP5UW\" \"VM3K4U\"\n"
     ]
    }
   ],
   "source": [
    "# ------------------ 1. Your user-provided ID list ------------------\n",
    "user_ids <- c(\"0FJ87G\", \"1LCED7\", \"5Z6HUD\", \"6AAVN4\", \"86L56R\", \"AAU5L2\", \"CNYTQ6\", \"E3R3C1\",\n",
    "              \"F3N17K\", \"FX4L2F\", \"GE00WM\", \"GH9FPG\", \"J3R7L4\", \"KQT35L\", \"KWCTKJ\", \"MARMAA\",\n",
    "              \"MNQJJL\", \"N6FGR8\", \"RJ70HQ\", \"RQGUR7\", \"VVXYT5\", \"X37HQQ\", \"XRDKL8\", \"Y98J0U\",\n",
    "              \"Z6WJKG\")\n",
    "\n",
    "# ------------------ 2. Get IDs of participants with any elevated score ------------------\n",
    "not_all_normal_ids <- df %>%\n",
    "  filter(Depression_level != \"Normal\" |\n",
    "         Anxiety_level != \"Normal\" |\n",
    "         Stress_level != \"Normal\") %>%\n",
    "  pull(v_1)\n",
    "\n",
    "# ------------------ 3. Compare and calculate overlaps ------------------\n",
    "overlap <- intersect(user_ids, not_all_normal_ids)\n",
    "only_in_user <- setdiff(user_ids, not_all_normal_ids)\n",
    "only_in_data <- setdiff(not_all_normal_ids, user_ids)\n",
    "\n",
    "# ------------------ 4. Print comparison summary ------------------\n",
    "\n",
    "cat(\"\\n📋 Comparison Summary:\\n\")\n",
    "cat(\"✅ Total IDs in user-provided list: \", length(user_ids), \"\\n\")\n",
    "cat(\"✅ Total IDs with elevated DASS scores: \", length(not_all_normal_ids), \"\\n\")\n",
    "cat(\"🔁 Number of overlapping IDs: \", length(overlap), \"\\n\")\n",
    "cat(\"📊 Overlap percentage (user list): \", round(length(overlap) / length(user_ids) * 100, 1), \"%\\n\")\n",
    "cat(\"📊 Overlap percentage (elevated participants): \", round(length(overlap) / length(not_all_normal_ids) * 100, 1), \"%\\n\\n\")\n",
    "\n",
    "cat(\"✅ Overlapping IDs:\\n\")\n",
    "print(overlap)\n",
    "\n",
    "cat(\"\\n❌ IDs only in user-provided list:\\n\")\n",
    "print(only_in_user)\n",
    "\n",
    "cat(\"\\n❌ IDs only in elevated score group (not in user list):\\n\")\n",
    "print(only_in_data)\n"
   ]
  },
  {
   "cell_type": "markdown",
   "metadata": {},
   "source": [
    "## IPQ_post (PGID 6999382)"
   ]
  },
  {
   "cell_type": "code",
   "execution_count": 76,
   "metadata": {
    "vscode": {
     "languageId": "r"
    }
   },
   "outputs": [],
   "source": [
    "# ----------- Setup -----------\n",
    "library(readxl)\n",
    "library(dplyr)\n",
    "library(gt)\n",
    "\n",
    "# 1. Load Excel file\n",
    "file_path <- \"/Users/jiaonahu/Documents/fractalvr-data/IPQ-Post.xlsx\"\n",
    "df <- read_excel(file_path)\n",
    "\n",
    "# 2. Reverse-score items (7-point scale): v_20, v_21, v_24, v_26, v_28\n",
    "reverse_items <- c(\"v_20\", \"v_21\", \"v_24\", \"v_26\", \"v_28\")\n",
    "df <- df %>%\n",
    "  mutate(across(all_of(reverse_items), ~ 8 - .))  # Reverse 1–7 scale\n",
    "\n",
    "# 3. Exclude specific participant IDs\n",
    "excluded_ids <- c(\"Z2CN1H\", \"YG0DT2\", \"JGMJ5P\", \"MX16R1\")\n",
    "df <- df %>% filter(!v_1 %in% excluded_ids)\n",
    "\n",
    "# 3. Compute subscale scores based on IPQ structure\n",
    "df <- df %>%\n",
    "  mutate(\n",
    "    spatial_presence = rowMeans(select(., v_19, v_20, v_21, v_22, v_23), na.rm = TRUE),\n",
    "    involvement = rowMeans(select(., v_24, v_25, v_26, v_27), na.rm = TRUE),\n",
    "    experienced_realism = rowMeans(select(., v_28, v_29, v_30, v_31), na.rm = TRUE),\n",
    "    general_presence = v_18\n",
    "  )\n",
    "\n",
    "# 4. Create summary table (mean of each dimension)\n",
    "table_summary <- df %>%\n",
    "  summarise(\n",
    "    Spatial_Mean = mean(spatial_presence, na.rm = TRUE),\n",
    "    Involvement_Mean = mean(involvement, na.rm = TRUE),\n",
    "    Realism_Mean = mean(experienced_realism, na.rm = TRUE),\n",
    "    Presence_Mean = mean(general_presence, na.rm = TRUE)\n",
    "  )\n",
    "\n",
    "# 5. Export as HTML using gt\n",
    "library(gt)\n",
    "gt_table <- gt(table_summary)\n",
    "gtsave(gt_table, \"vr_gaming_summary.html\")\n",
    "browseURL(\"vr_gaming_summary.html\")\n"
   ]
  },
  {
   "cell_type": "code",
   "execution_count": 78,
   "metadata": {
    "vscode": {
     "languageId": "r"
    }
   },
   "outputs": [
    {
     "name": "stdout",
     "output_type": "stream",
     "text": [
      "<U+0001F9E0> Participants who rated the virtual environment as less realistic (experienced_realism < 4):\n",
      "\u001b[90m# A tibble: 23 x 2\u001b[39m\n",
      "   v_1    experienced_realism\n",
      "   \u001b[3m\u001b[90m<chr>\u001b[39m\u001b[23m                \u001b[3m\u001b[90m<dbl>\u001b[39m\u001b[23m\n",
      "\u001b[90m 1\u001b[39m N6FGR8                3.25\n",
      "\u001b[90m 2\u001b[39m KQT35L                1.75\n",
      "\u001b[90m 3\u001b[39m V4JN59                2.5 \n",
      "\u001b[90m 4\u001b[39m VVXYJ5                2.5 \n",
      "\u001b[90m 5\u001b[39m FA5FCX                2.75\n",
      "\u001b[90m 6\u001b[39m KWCTKJ                3   \n",
      "\u001b[90m 7\u001b[39m PVAA50                3.5 \n",
      "\u001b[90m 8\u001b[39m 0FJ87G                3.25\n",
      "\u001b[90m 9\u001b[39m MNQJJL                3   \n",
      "\u001b[90m10\u001b[39m Y98JOU                3.25\n",
      "\u001b[90m# i 13 more rows\u001b[39m\n"
     ]
    }
   ],
   "source": [
    "# 设定阈值：低于 4 被视为觉得不真实\n",
    "threshold <- 4\n",
    "\n",
    "# 找出这些参与者\n",
    "unreal_users <- df %>%\n",
    "  filter(experienced_realism < threshold) %>%\n",
    "  select(v_1, experienced_realism)  # v_1 是你的参与者 ID\n",
    "  \n",
    "# 3. Exclude specific participant IDs\n",
    "excluded_ids <- c(\"Z2CN1H\", \"YG0DT2\", \"JGMJ5P\", \"MX16R1\")\n",
    "df <- df %>% filter(!v_1 %in% excluded_ids)\n",
    "\n",
    "# 打印结果\n",
    "cat(\"🧠 Participants who rated the virtual environment as less realistic (experienced_realism < 4):\\n\")\n",
    "print(unreal_users)"
   ]
  },
  {
   "cell_type": "code",
   "execution_count": 79,
   "metadata": {
    "vscode": {
     "languageId": "r"
    }
   },
   "outputs": [
    {
     "name": "stdout",
     "output_type": "stream",
     "text": [
      "\n",
      "<U+0001F3AF> Comparison: User List vs. Low Realism Participants\n",
      "<U+0001F522> Total in user list:  25 \n",
      "<U+0001F53B> Total with low realism:  10 \n",
      "<U+0001F501> Overlap count:  4 \n",
      "<U+0001F4CA> Overlap (user list):  16 %\n",
      "<U+0001F4CA> Overlap (low realism):  40 %\n",
      "\n",
      "<U+2705> Overlapping IDs:\n",
      "[1] \"0FJ87G\" \"KQT35L\" \"KWCTKJ\" \"N6FGR8\"\n",
      "\n",
      "<U+0001F9FE> Only in user-provided list:\n",
      " [1] \"1LCED7\" \"5Z6HUD\" \"6AAVN4\" \"86L56R\" \"AAU5L2\" \"CNYTQ6\" \"E3R3C1\" \"F3N17K\"\n",
      " [9] \"FX4L2F\" \"GE00WM\" \"GH9FPG\" \"J3R7L4\" \"MARMAA\" \"MNQJJL\" \"RJ70HQ\" \"RQGUR7\"\n",
      "[17] \"VVXYT5\" \"X37HQQ\" \"XRDKL8\" \"Y98J0U\" \"Z6WJKG\"\n",
      "\n",
      "<U+0001F6A8> Only in low realism group (not in user list):\n",
      "[1] \"YG0DT2\" \"V4JN59\" \"VVXYJ5\" \"FA5FCX\" \"MX16R1\" \"PVAA50\"\n"
     ]
    }
   ],
   "source": [
    "# ------------------ 1. User-provided ID list ------------------\n",
    "user_ids <- c(\"0FJ87G\", \"1LCED7\", \"5Z6HUD\", \"6AAVN4\", \"86L56R\", \"AAU5L2\", \"CNYTQ6\", \"E3R3C1\",\n",
    "              \"F3N17K\", \"FX4L2F\", \"GE00WM\", \"GH9FPG\", \"J3R7L4\", \"KQT35L\", \"KWCTKJ\", \"MARMAA\",\n",
    "              \"MNQJJL\", \"N6FGR8\", \"RJ70HQ\", \"RQGUR7\", \"VVXYT5\", \"X37HQQ\", \"XRDKL8\", \"Y98J0U\",\n",
    "              \"Z6WJKG\")\n",
    "\n",
    "# ------------------ 2. IDs with low experienced realism (< 4) ------------------\n",
    "low_realism_ids <- c(\"N6FGR8\", \"YG0DT2\", \"KQT35L\", \"V4JN59\", \"VVXYJ5\", \"FA5FCX\", \n",
    "                     \"MX16R1\", \"KWCTKJ\", \"PVAA50\", \"0FJ87G\")\n",
    "\n",
    "# ------------------ 3. Compare lists ------------------\n",
    "overlap <- intersect(user_ids, low_realism_ids)\n",
    "only_in_user <- setdiff(user_ids, low_realism_ids)\n",
    "only_in_low_realism <- setdiff(low_realism_ids, user_ids)\n",
    "\n",
    "# ------------------ 4. Print summary ------------------\n",
    "cat(\"\\n🎯 Comparison: User List vs. Low Realism Participants\\n\")\n",
    "cat(\"🔢 Total in user list: \", length(user_ids), \"\\n\")\n",
    "cat(\"🔻 Total with low realism: \", length(low_realism_ids), \"\\n\")\n",
    "cat(\"🔁 Overlap count: \", length(overlap), \"\\n\")\n",
    "cat(\"📊 Overlap (user list): \", round(length(overlap) / length(user_ids) * 100, 1), \"%\\n\")\n",
    "cat(\"📊 Overlap (low realism): \", round(length(overlap) / length(low_realism_ids) * 100, 1), \"%\\n\\n\")\n",
    "\n",
    "cat(\"✅ Overlapping IDs:\\n\")\n",
    "print(overlap)\n",
    "\n",
    "cat(\"\\n🧾 Only in user-provided list:\\n\")\n",
    "print(only_in_user)\n",
    "\n",
    "cat(\"\\n🚨 Only in low realism group (not in user list):\\n\")\n",
    "print(only_in_low_realism)\n"
   ]
  },
  {
   "cell_type": "code",
   "execution_count": 75,
   "metadata": {
    "vscode": {
     "languageId": "r"
    }
   },
   "outputs": [
    {
     "name": "stdout",
     "output_type": "stream",
     "text": [
      "\n",
      "<U+0001F4CB> Comparison Summary:\n",
      "<U+2705> Total in new user list:  10 \n",
      "<U+2705> Total with low realism:  10 \n",
      "<U+0001F501> Overlap count:  2 \n",
      "<U+0001F4CA> Overlap (user list):  20 %\n",
      "<U+0001F4CA> Overlap (low realism list):  20 %\n",
      "\n",
      "<U+2705> Overlapping IDs:\n",
      "[1] \"KQT35L\" \"PVAA50\"\n",
      "\n",
      "<U+274C> Only in new user list:\n",
      "[1] \"1L9FCD\" \"J3R7L4\" \"F3N17K\" \"MARMAA\" \"4VP5UW\" \"VM3K4U\" \"1LCED7\" \"86L56R\"\n",
      "\n",
      "<U+274C> Only in low realism list (not in new user list):\n",
      "[1] \"N6FGR8\" \"YG0DT2\" \"V4JN59\" \"VVXYJ5\" \"FA5FCX\" \"MX16R1\" \"KWCTKJ\" \"0FJ87G\"\n"
     ]
    }
   ],
   "source": [
    "# 1. List of participants with low experienced realism\n",
    "low_realism_ids <- c(\"N6FGR8\", \"YG0DT2\", \"KQT35L\", \"V4JN59\", \"VVXYJ5\", \n",
    "                     \"FA5FCX\", \"MX16R1\", \"KWCTKJ\", \"PVAA50\", \"0FJ87G\")\n",
    "\n",
    "# 2. Your newly provided user list\n",
    "new_user_ids <- c(\"1L9FCD\", \"KQT35L\", \"PVAA50\", \"J3R7L4\", \"F3N17K\", \n",
    "                  \"MARMAA\", \"4VP5UW\", \"VM3K4U\", \"1LCED7\", \"86L56R\")\n",
    "\n",
    "# 3. Comparison\n",
    "overlap <- intersect(new_user_ids, low_realism_ids)\n",
    "only_in_new <- setdiff(new_user_ids, low_realism_ids)\n",
    "only_in_low_realism <- setdiff(low_realism_ids, new_user_ids)\n",
    "\n",
    "# 4. Output\n",
    "cat(\"\\n📋 Comparison Summary:\\n\")\n",
    "cat(\"✅ Total in new user list: \", length(new_user_ids), \"\\n\")\n",
    "cat(\"✅ Total with low realism: \", length(low_realism_ids), \"\\n\")\n",
    "cat(\"🔁 Overlap count: \", length(overlap), \"\\n\")\n",
    "cat(\"📊 Overlap (user list): \", round(length(overlap) / length(new_user_ids) * 100, 1), \"%\\n\")\n",
    "cat(\"📊 Overlap (low realism list): \", round(length(overlap) / length(low_realism_ids) * 100, 1), \"%\\n\\n\")\n",
    "\n",
    "cat(\"✅ Overlapping IDs:\\n\")\n",
    "print(overlap)\n",
    "\n",
    "cat(\"\\n❌ Only in new user list:\\n\")\n",
    "print(only_in_new)\n",
    "\n",
    "cat(\"\\n❌ Only in low realism list (not in new user list):\\n\")\n",
    "print(only_in_low_realism)\n"
   ]
  },
  {
   "cell_type": "code",
   "execution_count": 82,
   "metadata": {
    "vscode": {
     "languageId": "r"
    }
   },
   "outputs": [
    {
     "name": "stdout",
     "output_type": "stream",
     "text": [
      "\u001b[90m# A tibble: 22 x 2\u001b[39m\n",
      "   v_1    average_score\n",
      "   \u001b[3m\u001b[90m<chr>\u001b[39m\u001b[23m          \u001b[3m\u001b[90m<dbl>\u001b[39m\u001b[23m\n",
      "\u001b[90m 1\u001b[39m N6FGR8          3.93\n",
      "\u001b[90m 2\u001b[39m AAU5L2          5.43\n",
      "\u001b[90m 3\u001b[39m KQT35L          3.36\n",
      "\u001b[90m 4\u001b[39m E3R3C1          4.71\n",
      "\u001b[90m 5\u001b[39m KWCTKJ          3.21\n",
      "\u001b[90m 6\u001b[39m RJ70HQ          4.64\n",
      "\u001b[90m 7\u001b[39m 0FJ87G          3.14\n",
      "\u001b[90m 8\u001b[39m MNQJJL          3.57\n",
      "\u001b[90m 9\u001b[39m GH9FPG          4.57\n",
      "\u001b[90m10\u001b[39m 5Z6HUD          5.07\n",
      "\u001b[90m# i 12 more rows\u001b[39m\n"
     ]
    }
   ],
   "source": [
    "# --------------------- Setup ---------------------\n",
    "library(readxl)\n",
    "library(dplyr)\n",
    "\n",
    "# 1. Set file path\n",
    "file_path <- \"/Users/jiaonahu/Documents/fractalvr-data/IPQ-Post.xlsx\"\n",
    "\n",
    "# 2. Read Excel file\n",
    "df <- read_excel(file_path)\n",
    "\n",
    "# 3. Ensure ID column is character and trimmed\n",
    "df <- df %>%\n",
    "  mutate(v_1 = trimws(as.character(v_1)))\n",
    "\n",
    "# 4. Define the list of user IDs you want to examine\n",
    "target_ids <- c(\"0FJ87G\", \"1LCED7\", \"5Z6HUD\", \"6AAVN4\", \"86L56R\", \"AAU5L2\", \"CNYTQ6\", \"E3R3C1\",\n",
    "                \"F3N17K\", \"FX4L2F\", \"GE00WM\", \"GH9FPG\", \"J3R7L4\", \"KQT35L\", \"KWCTKJ\", \"MARMAA\",\n",
    "                \"MNQJJL\", \"N6FGR8\", \"RJ70HQ\", \"RQGUR7\", \"VVXYT5\", \"X37HQQ\", \"XRDKL8\", \"Y98J0U\",\n",
    "                \"Z6WJKG\")\n",
    "\n",
    "# 5. Filter for selected IDs and calculate average score across v_18 to v_31\n",
    "average_scores <- df %>%\n",
    "  filter(v_1 %in% target_ids) %>%\n",
    "  rowwise() %>%\n",
    "  mutate(average_score = mean(c_across(v_18:v_31), na.rm = TRUE)) %>%\n",
    "  ungroup() %>%\n",
    "  select(v_1, average_score)\n",
    "\n",
    "# 6. Print results\n",
    "print(average_scores)\n"
   ]
  }
 ],
 "metadata": {
  "kernelspec": {
   "display_name": "R",
   "language": "R",
   "name": "ir"
  },
  "language_info": {
   "codemirror_mode": "r",
   "file_extension": ".r",
   "mimetype": "text/x-r-source",
   "name": "R",
   "pygments_lexer": "r",
   "version": "4.3.3"
  }
 },
 "nbformat": 4,
 "nbformat_minor": 2
}
